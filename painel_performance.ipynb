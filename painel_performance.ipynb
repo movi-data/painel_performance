{
  "nbformat": 4,
  "nbformat_minor": 0,
  "metadata": {
    "colab": {
      "provenance": [],
      "authorship_tag": "ABX9TyMFdTiAJ0xCKfPI7ErnAb/s",
      "include_colab_link": true
    },
    "kernelspec": {
      "name": "python3",
      "display_name": "Python 3"
    },
    "language_info": {
      "name": "python"
    }
  },
  "cells": [
    {
      "cell_type": "markdown",
      "metadata": {
        "id": "view-in-github",
        "colab_type": "text"
      },
      "source": [
        "<a href=\"https://colab.research.google.com/github/movi-data/painel_performance/blob/main/painel_performance.ipynb\" target=\"_parent\"><img src=\"https://colab.research.google.com/assets/colab-badge.svg\" alt=\"Open In Colab\"/></a>"
      ]
    },
    {
      "cell_type": "markdown",
      "source": [
        "# Relatório Plataformas"
      ],
      "metadata": {
        "id": "zld8sYeS1xv1"
      }
    },
    {
      "cell_type": "code",
      "source": [
        "import pandas as pd\n",
        "\n",
        "# --- ETAPA 1: Carregar o arquivo ---\n",
        "df_propostas = pd.read_csv(\"propostas.csv\", sep=\";\", encoding=\"utf-8\", low_memory=False)\n",
        "\n",
        "# --- ETAPA 2: Preparar Colunas ---\n",
        "\n",
        "# Tranformar 'Canal' em maiuscula\n",
        "df_propostas['Canal'] = df_propostas['Canal'].str.upper()\n",
        "# Filtrar o primeiro Canal na coluna 'Canal'\n",
        "df_propostas['Canal'] = df_propostas['Canal'].str.split(',').str[0]\n",
        "\n",
        "# --- ETAPA 3: Fazer agrupamento e ordernar ---\n",
        "\n",
        "# Agrupar leads por mês na coluna 'Data' e 'Canal'\n",
        "leads_por_canal_mes = df_propostas.groupby([pd.to_datetime(df_propostas[\"Data\"], format=\"%d/%m/%Y\", errors='coerce').dt.to_period(\"d\"),\n",
        "                                            \"Canal\"]).size().reset_index(name=\"Quantidade de Leads\")\n",
        "\n",
        "\n"
      ],
      "metadata": {
        "id": "CldiavBxE2Ik"
      },
      "execution_count": 3,
      "outputs": []
    },
    {
      "cell_type": "code",
      "source": [
        "# --- ETAPA 4: Criar arquivo csv e download ---\n",
        "\n",
        "# Criar arquivo .csv\n",
        "leads_por_canal_mes.to_csv(\"leads_por_canal_mes.csv\",sep=\";\" ,index=False)\n",
        "\n",
        "# Download do arquivo\n",
        "from google.colab import files\n",
        "files.download(\"leads_por_canal_mes.csv\")\n",
        "\n",
        "# Vizualização para conferência\n",
        "leads_por_canal_mes.head()"
      ],
      "metadata": {
        "id": "-m5lsquS6v88"
      },
      "execution_count": null,
      "outputs": []
    },
    {
      "cell_type": "code",
      "source": [
        "leads_por_canal_mes.tail()"
      ],
      "metadata": {
        "id": "eFa16U56O7Wo",
        "outputId": "67f3099f-e011-4993-8130-1f37dbdffe85",
        "colab": {
          "base_uri": "https://localhost:8080/",
          "height": 206
        }
      },
      "execution_count": null,
      "outputs": [
        {
          "output_type": "execute_result",
          "data": {
            "text/plain": [
              "            Data             Canal  Quantidade de Leads\n",
              "1283  2025-09-16  CAMPANHA DIGITAL                    1\n",
              "388   2025-07-05  CAMPANHA DIGITAL                    1\n",
              "190   2025-06-18         AUTOCARRO                    1\n",
              "19    2025-06-02         USADOS BR                    1\n",
              "10    2025-06-02  CAMPANHA DIGITAL                    1"
            ],
            "text/html": [
              "\n",
              "  <div id=\"df-7ce6ee50-ed95-4c55-97e9-527c6db83f65\" class=\"colab-df-container\">\n",
              "    <div>\n",
              "<style scoped>\n",
              "    .dataframe tbody tr th:only-of-type {\n",
              "        vertical-align: middle;\n",
              "    }\n",
              "\n",
              "    .dataframe tbody tr th {\n",
              "        vertical-align: top;\n",
              "    }\n",
              "\n",
              "    .dataframe thead th {\n",
              "        text-align: right;\n",
              "    }\n",
              "</style>\n",
              "<table border=\"1\" class=\"dataframe\">\n",
              "  <thead>\n",
              "    <tr style=\"text-align: right;\">\n",
              "      <th></th>\n",
              "      <th>Data</th>\n",
              "      <th>Canal</th>\n",
              "      <th>Quantidade de Leads</th>\n",
              "    </tr>\n",
              "  </thead>\n",
              "  <tbody>\n",
              "    <tr>\n",
              "      <th>1283</th>\n",
              "      <td>2025-09-16</td>\n",
              "      <td>CAMPANHA DIGITAL</td>\n",
              "      <td>1</td>\n",
              "    </tr>\n",
              "    <tr>\n",
              "      <th>388</th>\n",
              "      <td>2025-07-05</td>\n",
              "      <td>CAMPANHA DIGITAL</td>\n",
              "      <td>1</td>\n",
              "    </tr>\n",
              "    <tr>\n",
              "      <th>190</th>\n",
              "      <td>2025-06-18</td>\n",
              "      <td>AUTOCARRO</td>\n",
              "      <td>1</td>\n",
              "    </tr>\n",
              "    <tr>\n",
              "      <th>19</th>\n",
              "      <td>2025-06-02</td>\n",
              "      <td>USADOS BR</td>\n",
              "      <td>1</td>\n",
              "    </tr>\n",
              "    <tr>\n",
              "      <th>10</th>\n",
              "      <td>2025-06-02</td>\n",
              "      <td>CAMPANHA DIGITAL</td>\n",
              "      <td>1</td>\n",
              "    </tr>\n",
              "  </tbody>\n",
              "</table>\n",
              "</div>\n",
              "    <div class=\"colab-df-buttons\">\n",
              "\n",
              "  <div class=\"colab-df-container\">\n",
              "    <button class=\"colab-df-convert\" onclick=\"convertToInteractive('df-7ce6ee50-ed95-4c55-97e9-527c6db83f65')\"\n",
              "            title=\"Convert this dataframe to an interactive table.\"\n",
              "            style=\"display:none;\">\n",
              "\n",
              "  <svg xmlns=\"http://www.w3.org/2000/svg\" height=\"24px\" viewBox=\"0 -960 960 960\">\n",
              "    <path d=\"M120-120v-720h720v720H120Zm60-500h600v-160H180v160Zm220 220h160v-160H400v160Zm0 220h160v-160H400v160ZM180-400h160v-160H180v160Zm440 0h160v-160H620v160ZM180-180h160v-160H180v160Zm440 0h160v-160H620v160Z\"/>\n",
              "  </svg>\n",
              "    </button>\n",
              "\n",
              "  <style>\n",
              "    .colab-df-container {\n",
              "      display:flex;\n",
              "      gap: 12px;\n",
              "    }\n",
              "\n",
              "    .colab-df-convert {\n",
              "      background-color: #E8F0FE;\n",
              "      border: none;\n",
              "      border-radius: 50%;\n",
              "      cursor: pointer;\n",
              "      display: none;\n",
              "      fill: #1967D2;\n",
              "      height: 32px;\n",
              "      padding: 0 0 0 0;\n",
              "      width: 32px;\n",
              "    }\n",
              "\n",
              "    .colab-df-convert:hover {\n",
              "      background-color: #E2EBFA;\n",
              "      box-shadow: 0px 1px 2px rgba(60, 64, 67, 0.3), 0px 1px 3px 1px rgba(60, 64, 67, 0.15);\n",
              "      fill: #174EA6;\n",
              "    }\n",
              "\n",
              "    .colab-df-buttons div {\n",
              "      margin-bottom: 4px;\n",
              "    }\n",
              "\n",
              "    [theme=dark] .colab-df-convert {\n",
              "      background-color: #3B4455;\n",
              "      fill: #D2E3FC;\n",
              "    }\n",
              "\n",
              "    [theme=dark] .colab-df-convert:hover {\n",
              "      background-color: #434B5C;\n",
              "      box-shadow: 0px 1px 3px 1px rgba(0, 0, 0, 0.15);\n",
              "      filter: drop-shadow(0px 1px 2px rgba(0, 0, 0, 0.3));\n",
              "      fill: #FFFFFF;\n",
              "    }\n",
              "  </style>\n",
              "\n",
              "    <script>\n",
              "      const buttonEl =\n",
              "        document.querySelector('#df-7ce6ee50-ed95-4c55-97e9-527c6db83f65 button.colab-df-convert');\n",
              "      buttonEl.style.display =\n",
              "        google.colab.kernel.accessAllowed ? 'block' : 'none';\n",
              "\n",
              "      async function convertToInteractive(key) {\n",
              "        const element = document.querySelector('#df-7ce6ee50-ed95-4c55-97e9-527c6db83f65');\n",
              "        const dataTable =\n",
              "          await google.colab.kernel.invokeFunction('convertToInteractive',\n",
              "                                                    [key], {});\n",
              "        if (!dataTable) return;\n",
              "\n",
              "        const docLinkHtml = 'Like what you see? Visit the ' +\n",
              "          '<a target=\"_blank\" href=https://colab.research.google.com/notebooks/data_table.ipynb>data table notebook</a>'\n",
              "          + ' to learn more about interactive tables.';\n",
              "        element.innerHTML = '';\n",
              "        dataTable['output_type'] = 'display_data';\n",
              "        await google.colab.output.renderOutput(dataTable, element);\n",
              "        const docLink = document.createElement('div');\n",
              "        docLink.innerHTML = docLinkHtml;\n",
              "        element.appendChild(docLink);\n",
              "      }\n",
              "    </script>\n",
              "  </div>\n",
              "\n",
              "\n",
              "    <div id=\"df-407393f8-d029-4188-8289-57e9910b465f\">\n",
              "      <button class=\"colab-df-quickchart\" onclick=\"quickchart('df-407393f8-d029-4188-8289-57e9910b465f')\"\n",
              "                title=\"Suggest charts\"\n",
              "                style=\"display:none;\">\n",
              "\n",
              "<svg xmlns=\"http://www.w3.org/2000/svg\" height=\"24px\"viewBox=\"0 0 24 24\"\n",
              "     width=\"24px\">\n",
              "    <g>\n",
              "        <path d=\"M19 3H5c-1.1 0-2 .9-2 2v14c0 1.1.9 2 2 2h14c1.1 0 2-.9 2-2V5c0-1.1-.9-2-2-2zM9 17H7v-7h2v7zm4 0h-2V7h2v10zm4 0h-2v-4h2v4z\"/>\n",
              "    </g>\n",
              "</svg>\n",
              "      </button>\n",
              "\n",
              "<style>\n",
              "  .colab-df-quickchart {\n",
              "      --bg-color: #E8F0FE;\n",
              "      --fill-color: #1967D2;\n",
              "      --hover-bg-color: #E2EBFA;\n",
              "      --hover-fill-color: #174EA6;\n",
              "      --disabled-fill-color: #AAA;\n",
              "      --disabled-bg-color: #DDD;\n",
              "  }\n",
              "\n",
              "  [theme=dark] .colab-df-quickchart {\n",
              "      --bg-color: #3B4455;\n",
              "      --fill-color: #D2E3FC;\n",
              "      --hover-bg-color: #434B5C;\n",
              "      --hover-fill-color: #FFFFFF;\n",
              "      --disabled-bg-color: #3B4455;\n",
              "      --disabled-fill-color: #666;\n",
              "  }\n",
              "\n",
              "  .colab-df-quickchart {\n",
              "    background-color: var(--bg-color);\n",
              "    border: none;\n",
              "    border-radius: 50%;\n",
              "    cursor: pointer;\n",
              "    display: none;\n",
              "    fill: var(--fill-color);\n",
              "    height: 32px;\n",
              "    padding: 0;\n",
              "    width: 32px;\n",
              "  }\n",
              "\n",
              "  .colab-df-quickchart:hover {\n",
              "    background-color: var(--hover-bg-color);\n",
              "    box-shadow: 0 1px 2px rgba(60, 64, 67, 0.3), 0 1px 3px 1px rgba(60, 64, 67, 0.15);\n",
              "    fill: var(--button-hover-fill-color);\n",
              "  }\n",
              "\n",
              "  .colab-df-quickchart-complete:disabled,\n",
              "  .colab-df-quickchart-complete:disabled:hover {\n",
              "    background-color: var(--disabled-bg-color);\n",
              "    fill: var(--disabled-fill-color);\n",
              "    box-shadow: none;\n",
              "  }\n",
              "\n",
              "  .colab-df-spinner {\n",
              "    border: 2px solid var(--fill-color);\n",
              "    border-color: transparent;\n",
              "    border-bottom-color: var(--fill-color);\n",
              "    animation:\n",
              "      spin 1s steps(1) infinite;\n",
              "  }\n",
              "\n",
              "  @keyframes spin {\n",
              "    0% {\n",
              "      border-color: transparent;\n",
              "      border-bottom-color: var(--fill-color);\n",
              "      border-left-color: var(--fill-color);\n",
              "    }\n",
              "    20% {\n",
              "      border-color: transparent;\n",
              "      border-left-color: var(--fill-color);\n",
              "      border-top-color: var(--fill-color);\n",
              "    }\n",
              "    30% {\n",
              "      border-color: transparent;\n",
              "      border-left-color: var(--fill-color);\n",
              "      border-top-color: var(--fill-color);\n",
              "      border-right-color: var(--fill-color);\n",
              "    }\n",
              "    40% {\n",
              "      border-color: transparent;\n",
              "      border-right-color: var(--fill-color);\n",
              "      border-top-color: var(--fill-color);\n",
              "    }\n",
              "    60% {\n",
              "      border-color: transparent;\n",
              "      border-right-color: var(--fill-color);\n",
              "    }\n",
              "    80% {\n",
              "      border-color: transparent;\n",
              "      border-right-color: var(--fill-color);\n",
              "      border-bottom-color: var(--fill-color);\n",
              "    }\n",
              "    90% {\n",
              "      border-color: transparent;\n",
              "      border-bottom-color: var(--fill-color);\n",
              "    }\n",
              "  }\n",
              "</style>\n",
              "\n",
              "      <script>\n",
              "        async function quickchart(key) {\n",
              "          const quickchartButtonEl =\n",
              "            document.querySelector('#' + key + ' button');\n",
              "          quickchartButtonEl.disabled = true;  // To prevent multiple clicks.\n",
              "          quickchartButtonEl.classList.add('colab-df-spinner');\n",
              "          try {\n",
              "            const charts = await google.colab.kernel.invokeFunction(\n",
              "                'suggestCharts', [key], {});\n",
              "          } catch (error) {\n",
              "            console.error('Error during call to suggestCharts:', error);\n",
              "          }\n",
              "          quickchartButtonEl.classList.remove('colab-df-spinner');\n",
              "          quickchartButtonEl.classList.add('colab-df-quickchart-complete');\n",
              "        }\n",
              "        (() => {\n",
              "          let quickchartButtonEl =\n",
              "            document.querySelector('#df-407393f8-d029-4188-8289-57e9910b465f button');\n",
              "          quickchartButtonEl.style.display =\n",
              "            google.colab.kernel.accessAllowed ? 'block' : 'none';\n",
              "        })();\n",
              "      </script>\n",
              "    </div>\n",
              "\n",
              "    </div>\n",
              "  </div>\n"
            ],
            "application/vnd.google.colaboratory.intrinsic+json": {
              "type": "dataframe",
              "summary": "{\n  \"name\": \"leads_por_canal_mes\",\n  \"rows\": 5,\n  \"fields\": [\n    {\n      \"column\": \"Data\",\n      \"properties\": {\n        \"dtype\": \"period[D]\",\n        \"num_unique_values\": 4,\n        \"samples\": [\n          \"2025-07-05\",\n          \"2025-06-02\",\n          \"2025-09-16\"\n        ],\n        \"semantic_type\": \"\",\n        \"description\": \"\"\n      }\n    },\n    {\n      \"column\": \"Canal\",\n      \"properties\": {\n        \"dtype\": \"string\",\n        \"num_unique_values\": 3,\n        \"samples\": [\n          \"CAMPANHA DIGITAL\",\n          \"AUTOCARRO\",\n          \"USADOS BR\"\n        ],\n        \"semantic_type\": \"\",\n        \"description\": \"\"\n      }\n    },\n    {\n      \"column\": \"Quantidade de Leads\",\n      \"properties\": {\n        \"dtype\": \"number\",\n        \"std\": 0,\n        \"min\": 1,\n        \"max\": 1,\n        \"num_unique_values\": 1,\n        \"samples\": [\n          1\n        ],\n        \"semantic_type\": \"\",\n        \"description\": \"\"\n      }\n    }\n  ]\n}"
            }
          },
          "metadata": {},
          "execution_count": 4
        }
      ]
    },
    {
      "cell_type": "markdown",
      "source": [
        "# Completo"
      ],
      "metadata": {
        "id": "FdCyAAwq-J77"
      }
    },
    {
      "cell_type": "code",
      "source": [
        "import pandas as pd\n",
        "\n",
        "# --- ETAPA 1: Carregar os arquivos ---\n",
        "df_propostas = pd.read_csv(\"propostas.csv\", sep=\";\", encoding=\"utf-8\", low_memory=False)\n",
        "df_lojas = pd.read_excel(\"de_para_loja.xlsx\")\n",
        "\n",
        "# --- ETAPA : Preparar Colunas ---\n",
        "# Tranformar 'Canal' em maiuscula\n",
        "df_propostas['Canal'] = df_propostas['Canal'].str.upper()\n",
        "# Filtrar o primeiro Canal na coluna 'Canal'\n",
        "df_propostas['Canal'] = df_propostas['Canal'].str.split(',').str[0]\n",
        "\n",
        "# --- ETAPA : Criar coluna 'Bot abandonado' ---\n",
        "df_propostas['Bot Abandonado'] = df_propostas['tags'].str.contains('Bot Abandonado', case=False)\n",
        "\n",
        "# --- ETAPA : Novo df com menos colunas ---\n",
        "df_propostas_resumido = df_propostas[['ID Lead', 'Data', 'Data ultima interação',\n",
        "                                      'Nome PDV','Origem', 'Canal',\n",
        "                                       'tipo', 'qualificado',\n",
        "                                       'vetor_id', 'Bot Abandonado'\n",
        "                                      ]]\n",
        "\n",
        "# --- ETAPA : Criar merge com base no Lojas ---\n",
        "df_propostas_ajustado = pd.merge(df_propostas_resumido, df_lojas,\n",
        "                                 on=\"Nome PDV\", how=\"left\", indicator=True)\n",
        "\n",
        "\n",
        "# Substituir coluna 'Nome PDV' por 'Nome ajustado'\n",
        "df_propostas_ajustado['Nome PDV'] = df_propostas_ajustado['Nome ajustado']\n",
        "\n",
        "# Manter somente colunas necessárias\n",
        "df_propostas_ajustado = df_propostas_ajustado[[ 'ID Lead', 'Data', 'Data ultima interação',\n",
        "                                      'Nome PDV','Origem', 'Canal',\n",
        "                                      'Status', 'tipo', 'qualificado',\n",
        "                                       'vetor_id', 'Bot Abandonado', 'CNPJ',\n",
        "                                      'Região','Varejo', 'UF',\n",
        "                                      'Cidade', 'DDD',\n",
        "                                      'Status', 'CEP', 'Telefone',\n",
        "                                      'Endereço ', 'Bairro', 'Mobi ID',\n",
        "                                       'Regional', '_merge'\n",
        "                                        ]]"
      ],
      "metadata": {
        "id": "6rX9C64tE7c_"
      },
      "execution_count": 12,
      "outputs": []
    },
    {
      "cell_type": "code",
      "source": [
        "# --- ETAPA : Criar arquivo csv e download ---\n",
        "\n",
        "# Criar arquivo .csv\n",
        "df_propostas_ajustado.to_csv(\"propostas_ajustado.csv\",sep=\";\" ,index=False)\n",
        "\n",
        "# Download do arquivo\n",
        "from google.colab import files\n",
        "files.download(\"propostas_ajustado.csv\")\n",
        "\n",
        "# Vizualização para conferência\n",
        "df_propostas_ajustado.head()"
      ],
      "metadata": {
        "id": "wzBGT2_4--cM"
      },
      "execution_count": null,
      "outputs": []
    },
    {
      "cell_type": "code",
      "source": [
        "print(df_propostas_ajustado.columns)"
      ],
      "metadata": {
        "colab": {
          "base_uri": "https://localhost:8080/"
        },
        "id": "7N-kl0YPJuYD",
        "outputId": "78ea1acf-fb27-40d6-82d2-aa66e3dbc6c8"
      },
      "execution_count": 13,
      "outputs": [
        {
          "output_type": "stream",
          "name": "stdout",
          "text": [
            "Index(['ID Lead', 'Data', 'Data ultima interação', 'Nome PDV', 'Origem',\n",
            "       'Canal', 'Status', 'tipo', 'qualificado', 'vetor_id', 'Bot Abandonado',\n",
            "       'CNPJ', 'Região', 'Varejo', 'UF', 'Cidade', 'DDD', 'Status', 'CEP',\n",
            "       'Telefone', 'Endereço ', 'Bairro', 'Mobi ID', 'Regional', '_merge'],\n",
            "      dtype='object')\n"
          ]
        }
      ]
    },
    {
      "cell_type": "code",
      "source": [
        "df_propostas_ajustado.info()"
      ],
      "metadata": {
        "colab": {
          "base_uri": "https://localhost:8080/"
        },
        "id": "1MtK94fWL9Zl",
        "outputId": "c4aa0e99-274a-4ec4-b49a-c24204698cfd"
      },
      "execution_count": 14,
      "outputs": [
        {
          "output_type": "stream",
          "name": "stdout",
          "text": [
            "<class 'pandas.core.frame.DataFrame'>\n",
            "RangeIndex: 388306 entries, 0 to 388305\n",
            "Data columns (total 25 columns):\n",
            " #   Column                 Non-Null Count   Dtype   \n",
            "---  ------                 --------------   -----   \n",
            " 0   ID Lead                388306 non-null  int64   \n",
            " 1   Data                   388306 non-null  object  \n",
            " 2   Data ultima interação  388306 non-null  object  \n",
            " 3   Nome PDV               388306 non-null  object  \n",
            " 4   Origem                 388306 non-null  object  \n",
            " 5   Canal                  373529 non-null  object  \n",
            " 6   Status                 387695 non-null  object  \n",
            " 7   tipo                   388306 non-null  object  \n",
            " 8   qualificado            388306 non-null  bool    \n",
            " 9   vetor_id               7011 non-null    float64 \n",
            " 10  Bot Abandonado         233050 non-null  object  \n",
            " 11  CNPJ                   386120 non-null  object  \n",
            " 12  Região                 387695 non-null  object  \n",
            " 13  Varejo                 387695 non-null  object  \n",
            " 14  UF                     387695 non-null  object  \n",
            " 15  Cidade                 387695 non-null  object  \n",
            " 16  DDD                    387695 non-null  object  \n",
            " 17  Status                 387695 non-null  object  \n",
            " 18  CEP                    375475 non-null  object  \n",
            " 19  Telefone               375475 non-null  object  \n",
            " 20  Endereço               375475 non-null  object  \n",
            " 21  Bairro                 375475 non-null  object  \n",
            " 22  Mobi ID                375475 non-null  object  \n",
            " 23  Regional               375475 non-null  object  \n",
            " 24  _merge                 388306 non-null  category\n",
            "dtypes: bool(1), category(1), float64(1), int64(1), object(21)\n",
            "memory usage: 68.9+ MB\n"
          ]
        }
      ]
    },
    {
      "cell_type": "code",
      "source": [
        "df_propostas.info()"
      ],
      "metadata": {
        "colab": {
          "base_uri": "https://localhost:8080/"
        },
        "id": "fO-UYIR5VQrW",
        "outputId": "94be5dd8-a06a-4f06-86dc-0f3a65625e62"
      },
      "execution_count": 15,
      "outputs": [
        {
          "output_type": "stream",
          "name": "stdout",
          "text": [
            "<class 'pandas.core.frame.DataFrame'>\n",
            "RangeIndex: 388306 entries, 0 to 388305\n",
            "Data columns (total 38 columns):\n",
            " #   Column                            Non-Null Count   Dtype  \n",
            "---  ------                            --------------   -----  \n",
            " 0   ID Lead                           388306 non-null  int64  \n",
            " 1   Data                              388306 non-null  object \n",
            " 2   Data ultima interação             388306 non-null  object \n",
            " 3   Nome PDV                          388306 non-null  object \n",
            " 4   CNPJ PDV                          388306 non-null  int64  \n",
            " 5   Nome Cliente                      384902 non-null  object \n",
            " 6   Email Cliente                     241314 non-null  object \n",
            " 7   Telefone Cliente                  388052 non-null  object \n",
            " 8   CPF                               10725 non-null   float64\n",
            " 9   Lead                              51381 non-null   object \n",
            " 10  Origem                            388306 non-null  object \n",
            " 11  Canal                             373529 non-null  object \n",
            " 12  Status                            388306 non-null  object \n",
            " 13  CallCenter status                 238116 non-null  object \n",
            " 14  Data Status Loja                  317932 non-null  object \n",
            " 15  Nome Vendedor                     285955 non-null  object \n",
            " 16  ID do Vendedor                    285955 non-null  float64\n",
            " 17  Callcenter detalhe                194141 non-null  object \n",
            " 18  callcenter status detalhe         23155 non-null   object \n",
            " 19  assistente vendas                 65738 non-null   object \n",
            " 20  ID do Assistente de Vendas        65738 non-null   float64\n",
            " 21  tipo                              388306 non-null  object \n",
            " 22  qualificado                       388306 non-null  bool   \n",
            " 23  documentos                        2320 non-null    object \n",
            " 24  tags                              233050 non-null  object \n",
            " 25  vetor_id                          7011 non-null    float64\n",
            " 26  data_ult_solicitacao_agendamento  2805 non-null    object \n",
            " 27  data_ult_agendamento              2805 non-null    object \n",
            " 28  agendamento_visita                388306 non-null  bool   \n",
            " 29  atraso_ult_agendamento            2805 non-null    object \n",
            " 30  qtd_agendamentos_90d              2805 non-null    float64\n",
            " 31  qtd_nao_foi_90d                   2805 non-null    float64\n",
            " 32  regiao                            388306 non-null  object \n",
            " 33  Cidade                            197653 non-null  object \n",
            " 34  UF                                197653 non-null  object \n",
            " 35  CEP                               197863 non-null  float64\n",
            " 36  campanha                          186629 non-null  object \n",
            " 37  Bot Abandonado                    233050 non-null  object \n",
            "dtypes: bool(2), float64(7), int64(2), object(27)\n",
            "memory usage: 107.4+ MB\n"
          ]
        }
      ]
    },
    {
      "cell_type": "code",
      "source": [
        "df_propostas.columns"
      ],
      "metadata": {
        "id": "3TP3Duq9-Bwe",
        "outputId": "314fc1e2-511c-46a8-c731-e655ce285208",
        "colab": {
          "base_uri": "https://localhost:8080/"
        }
      },
      "execution_count": 16,
      "outputs": [
        {
          "output_type": "execute_result",
          "data": {
            "text/plain": [
              "Index(['ID Lead', 'Data', 'Data ultima interação', 'Nome PDV', 'CNPJ PDV',\n",
              "       'Nome Cliente', 'Email Cliente', 'Telefone Cliente', 'CPF', 'Lead',\n",
              "       'Origem', 'Canal', 'Status', 'CallCenter status', 'Data Status Loja',\n",
              "       'Nome Vendedor', 'ID do Vendedor', 'Callcenter detalhe',\n",
              "       'callcenter status detalhe', 'assistente vendas',\n",
              "       'ID do Assistente de Vendas', 'tipo', 'qualificado', 'documentos',\n",
              "       'tags', 'vetor_id', 'data_ult_solicitacao_agendamento',\n",
              "       'data_ult_agendamento', 'agendamento_visita', 'atraso_ult_agendamento',\n",
              "       'qtd_agendamentos_90d', 'qtd_nao_foi_90d', 'regiao', 'Cidade', 'UF',\n",
              "       'CEP', 'campanha', 'Bot Abandonado'],\n",
              "      dtype='object')"
            ]
          },
          "metadata": {},
          "execution_count": 16
        }
      ]
    },
    {
      "cell_type": "code",
      "source": [
        "# --- ETAPA : Criar coluna de data ---\n",
        "\n",
        "# Converter a coluna Data para datetime\n",
        "df_propostas_ajustado[\"Data\"] = pd.to_datetime(df_propostas_ajustado[\"Data\"], format=\"%d/%m/%Y\")"
      ],
      "metadata": {
        "id": "LayBtTgE-6Mt"
      },
      "execution_count": null,
      "outputs": []
    }
  ]
}