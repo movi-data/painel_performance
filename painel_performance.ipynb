{
  "nbformat": 4,
  "nbformat_minor": 0,
  "metadata": {
    "colab": {
      "provenance": [],
      "authorship_tag": "ABX9TyO0oUxnmpSKSuGXP/Ys8zDD",
      "include_colab_link": true
    },
    "kernelspec": {
      "name": "python3",
      "display_name": "Python 3"
    },
    "language_info": {
      "name": "python"
    }
  },
  "cells": [
    {
      "cell_type": "markdown",
      "metadata": {
        "id": "view-in-github",
        "colab_type": "text"
      },
      "source": [
        "<a href=\"https://colab.research.google.com/github/movi-data/painel_performance/blob/main/painel_performance.ipynb\" target=\"_parent\"><img src=\"https://colab.research.google.com/assets/colab-badge.svg\" alt=\"Open In Colab\"/></a>"
      ]
    },
    {
      "cell_type": "markdown",
      "source": [
        "# Relatório Plataformas"
      ],
      "metadata": {
        "id": "zld8sYeS1xv1"
      }
    },
    {
      "cell_type": "code",
      "source": [
        "import pandas as pd\n",
        "\n",
        "# --- ETAPA 1: Carregar o arquivo ---\n",
        "df_propostas = pd.read_csv(\"propostas.csv\", sep=\";\", encoding=\"utf-8\", low_memory=False)\n",
        "\n",
        "df_canal = df_propostas.copy()\n",
        "\n",
        "# --- ETAPA 2: Transforar Colunas ---\n",
        "\n",
        "# Tranformar 'Canal' em maiuscula\n",
        "df_canal['Canal'] = df_canal['Canal'].str.upper()\n",
        "# Filtrar o primeiro Canal na coluna 'Canal'\n",
        "df_canal['Canal'] = df_canal['Canal'].str.split(',').str[0]\n",
        "\n",
        "# Trocar na coluna 'Origem' onde for 'MobiBot' por 'Internet'\n",
        "df_canal['Origem'] = df_canal['Origem'].replace('MobiBot', 'Internet')\n",
        "\n",
        "# Trocar na coluna 'Origem' onde for 'MobiBot' por 'Internet'\n",
        "df_canal['Origem'] = df_canal['Origem'].replace('MobiBot', 'Internet')\n",
        "\n",
        "# Renomear coluna 'qualificado'\n",
        "df_canal.rename(columns={'qualificado': 'Qualificado'}, inplace=True)\n",
        "\n",
        "# --- ETAPA 3: Fazer agrupamento ---\n",
        "\n",
        "# Agrupar leads por mês na coluna 'Data' , 'Canal' e 'Qualificado'\n",
        "\n",
        "leads_por_canal_mes = df_canal.groupby([pd.to_datetime(df_canal[\"Data\"], format=\"%d/%m/%Y\", errors='coerce').dt.to_period(\"d\"),\n",
        "                                            \"Canal\",\"Qualificado\"]).size().reset_index(name=\"Quantidade de Leads\")\n",
        "\n",
        "# --- ETAPA 4: Criar arquivo csv e download ---\n",
        "\n",
        "# Criar arquivo .csv\n",
        "leads_por_canal_mes.to_csv(\"leads_por_canal_mes.csv\",sep=\";\" ,index=False)\n",
        "\n",
        "# Download do arquivo\n",
        "from google.colab import files\n",
        "files.download(\"leads_por_canal_mes.csv\")\n",
        "\n",
        "# Vizualização para conferência\n",
        "leads_por_canal_mes.head()\n"
      ],
      "metadata": {
        "id": "CldiavBxE2Ik",
        "colab": {
          "base_uri": "https://localhost:8080/",
          "height": 206
        },
        "outputId": "eb0850e6-73cf-400a-a504-aa9956b31d77"
      },
      "execution_count": 90,
      "outputs": [
        {
          "output_type": "display_data",
          "data": {
            "text/plain": [
              "<IPython.core.display.Javascript object>"
            ],
            "application/javascript": [
              "\n",
              "    async function download(id, filename, size) {\n",
              "      if (!google.colab.kernel.accessAllowed) {\n",
              "        return;\n",
              "      }\n",
              "      const div = document.createElement('div');\n",
              "      const label = document.createElement('label');\n",
              "      label.textContent = `Downloading \"${filename}\": `;\n",
              "      div.appendChild(label);\n",
              "      const progress = document.createElement('progress');\n",
              "      progress.max = size;\n",
              "      div.appendChild(progress);\n",
              "      document.body.appendChild(div);\n",
              "\n",
              "      const buffers = [];\n",
              "      let downloaded = 0;\n",
              "\n",
              "      const channel = await google.colab.kernel.comms.open(id);\n",
              "      // Send a message to notify the kernel that we're ready.\n",
              "      channel.send({})\n",
              "\n",
              "      for await (const message of channel.messages) {\n",
              "        // Send a message to notify the kernel that we're ready.\n",
              "        channel.send({})\n",
              "        if (message.buffers) {\n",
              "          for (const buffer of message.buffers) {\n",
              "            buffers.push(buffer);\n",
              "            downloaded += buffer.byteLength;\n",
              "            progress.value = downloaded;\n",
              "          }\n",
              "        }\n",
              "      }\n",
              "      const blob = new Blob(buffers, {type: 'application/binary'});\n",
              "      const a = document.createElement('a');\n",
              "      a.href = window.URL.createObjectURL(blob);\n",
              "      a.download = filename;\n",
              "      div.appendChild(a);\n",
              "      a.click();\n",
              "      div.remove();\n",
              "    }\n",
              "  "
            ]
          },
          "metadata": {}
        },
        {
          "output_type": "display_data",
          "data": {
            "text/plain": [
              "<IPython.core.display.Javascript object>"
            ],
            "application/javascript": [
              "download(\"download_bef4f695-77ea-478f-92c9-3e6eb764e75c\", \"leads_por_canal_mes.csv\", 69307)"
            ]
          },
          "metadata": {}
        },
        {
          "output_type": "execute_result",
          "data": {
            "text/plain": [
              "         Data      Canal  Qualificado  Quantidade de Leads\n",
              "0  2025-06-01   FACEBOOK        False                   18\n",
              "1  2025-06-01   FACEBOOK         True                  312\n",
              "2  2025-06-01  INSTAGRAM        False                  187\n",
              "3  2025-06-01  INSTAGRAM         True                 1142\n",
              "4  2025-06-01    LOCAÇÃO        False                   10"
            ],
            "text/html": [
              "\n",
              "  <div id=\"df-360775ed-3c8b-496b-9804-e686114ba92f\" class=\"colab-df-container\">\n",
              "    <div>\n",
              "<style scoped>\n",
              "    .dataframe tbody tr th:only-of-type {\n",
              "        vertical-align: middle;\n",
              "    }\n",
              "\n",
              "    .dataframe tbody tr th {\n",
              "        vertical-align: top;\n",
              "    }\n",
              "\n",
              "    .dataframe thead th {\n",
              "        text-align: right;\n",
              "    }\n",
              "</style>\n",
              "<table border=\"1\" class=\"dataframe\">\n",
              "  <thead>\n",
              "    <tr style=\"text-align: right;\">\n",
              "      <th></th>\n",
              "      <th>Data</th>\n",
              "      <th>Canal</th>\n",
              "      <th>Qualificado</th>\n",
              "      <th>Quantidade de Leads</th>\n",
              "    </tr>\n",
              "  </thead>\n",
              "  <tbody>\n",
              "    <tr>\n",
              "      <th>0</th>\n",
              "      <td>2025-06-01</td>\n",
              "      <td>FACEBOOK</td>\n",
              "      <td>False</td>\n",
              "      <td>18</td>\n",
              "    </tr>\n",
              "    <tr>\n",
              "      <th>1</th>\n",
              "      <td>2025-06-01</td>\n",
              "      <td>FACEBOOK</td>\n",
              "      <td>True</td>\n",
              "      <td>312</td>\n",
              "    </tr>\n",
              "    <tr>\n",
              "      <th>2</th>\n",
              "      <td>2025-06-01</td>\n",
              "      <td>INSTAGRAM</td>\n",
              "      <td>False</td>\n",
              "      <td>187</td>\n",
              "    </tr>\n",
              "    <tr>\n",
              "      <th>3</th>\n",
              "      <td>2025-06-01</td>\n",
              "      <td>INSTAGRAM</td>\n",
              "      <td>True</td>\n",
              "      <td>1142</td>\n",
              "    </tr>\n",
              "    <tr>\n",
              "      <th>4</th>\n",
              "      <td>2025-06-01</td>\n",
              "      <td>LOCAÇÃO</td>\n",
              "      <td>False</td>\n",
              "      <td>10</td>\n",
              "    </tr>\n",
              "  </tbody>\n",
              "</table>\n",
              "</div>\n",
              "    <div class=\"colab-df-buttons\">\n",
              "\n",
              "  <div class=\"colab-df-container\">\n",
              "    <button class=\"colab-df-convert\" onclick=\"convertToInteractive('df-360775ed-3c8b-496b-9804-e686114ba92f')\"\n",
              "            title=\"Convert this dataframe to an interactive table.\"\n",
              "            style=\"display:none;\">\n",
              "\n",
              "  <svg xmlns=\"http://www.w3.org/2000/svg\" height=\"24px\" viewBox=\"0 -960 960 960\">\n",
              "    <path d=\"M120-120v-720h720v720H120Zm60-500h600v-160H180v160Zm220 220h160v-160H400v160Zm0 220h160v-160H400v160ZM180-400h160v-160H180v160Zm440 0h160v-160H620v160ZM180-180h160v-160H180v160Zm440 0h160v-160H620v160Z\"/>\n",
              "  </svg>\n",
              "    </button>\n",
              "\n",
              "  <style>\n",
              "    .colab-df-container {\n",
              "      display:flex;\n",
              "      gap: 12px;\n",
              "    }\n",
              "\n",
              "    .colab-df-convert {\n",
              "      background-color: #E8F0FE;\n",
              "      border: none;\n",
              "      border-radius: 50%;\n",
              "      cursor: pointer;\n",
              "      display: none;\n",
              "      fill: #1967D2;\n",
              "      height: 32px;\n",
              "      padding: 0 0 0 0;\n",
              "      width: 32px;\n",
              "    }\n",
              "\n",
              "    .colab-df-convert:hover {\n",
              "      background-color: #E2EBFA;\n",
              "      box-shadow: 0px 1px 2px rgba(60, 64, 67, 0.3), 0px 1px 3px 1px rgba(60, 64, 67, 0.15);\n",
              "      fill: #174EA6;\n",
              "    }\n",
              "\n",
              "    .colab-df-buttons div {\n",
              "      margin-bottom: 4px;\n",
              "    }\n",
              "\n",
              "    [theme=dark] .colab-df-convert {\n",
              "      background-color: #3B4455;\n",
              "      fill: #D2E3FC;\n",
              "    }\n",
              "\n",
              "    [theme=dark] .colab-df-convert:hover {\n",
              "      background-color: #434B5C;\n",
              "      box-shadow: 0px 1px 3px 1px rgba(0, 0, 0, 0.15);\n",
              "      filter: drop-shadow(0px 1px 2px rgba(0, 0, 0, 0.3));\n",
              "      fill: #FFFFFF;\n",
              "    }\n",
              "  </style>\n",
              "\n",
              "    <script>\n",
              "      const buttonEl =\n",
              "        document.querySelector('#df-360775ed-3c8b-496b-9804-e686114ba92f button.colab-df-convert');\n",
              "      buttonEl.style.display =\n",
              "        google.colab.kernel.accessAllowed ? 'block' : 'none';\n",
              "\n",
              "      async function convertToInteractive(key) {\n",
              "        const element = document.querySelector('#df-360775ed-3c8b-496b-9804-e686114ba92f');\n",
              "        const dataTable =\n",
              "          await google.colab.kernel.invokeFunction('convertToInteractive',\n",
              "                                                    [key], {});\n",
              "        if (!dataTable) return;\n",
              "\n",
              "        const docLinkHtml = 'Like what you see? Visit the ' +\n",
              "          '<a target=\"_blank\" href=https://colab.research.google.com/notebooks/data_table.ipynb>data table notebook</a>'\n",
              "          + ' to learn more about interactive tables.';\n",
              "        element.innerHTML = '';\n",
              "        dataTable['output_type'] = 'display_data';\n",
              "        await google.colab.output.renderOutput(dataTable, element);\n",
              "        const docLink = document.createElement('div');\n",
              "        docLink.innerHTML = docLinkHtml;\n",
              "        element.appendChild(docLink);\n",
              "      }\n",
              "    </script>\n",
              "  </div>\n",
              "\n",
              "\n",
              "    <div id=\"df-ca8480e0-8de8-45e8-a367-f2c856339047\">\n",
              "      <button class=\"colab-df-quickchart\" onclick=\"quickchart('df-ca8480e0-8de8-45e8-a367-f2c856339047')\"\n",
              "                title=\"Suggest charts\"\n",
              "                style=\"display:none;\">\n",
              "\n",
              "<svg xmlns=\"http://www.w3.org/2000/svg\" height=\"24px\"viewBox=\"0 0 24 24\"\n",
              "     width=\"24px\">\n",
              "    <g>\n",
              "        <path d=\"M19 3H5c-1.1 0-2 .9-2 2v14c0 1.1.9 2 2 2h14c1.1 0 2-.9 2-2V5c0-1.1-.9-2-2-2zM9 17H7v-7h2v7zm4 0h-2V7h2v10zm4 0h-2v-4h2v4z\"/>\n",
              "    </g>\n",
              "</svg>\n",
              "      </button>\n",
              "\n",
              "<style>\n",
              "  .colab-df-quickchart {\n",
              "      --bg-color: #E8F0FE;\n",
              "      --fill-color: #1967D2;\n",
              "      --hover-bg-color: #E2EBFA;\n",
              "      --hover-fill-color: #174EA6;\n",
              "      --disabled-fill-color: #AAA;\n",
              "      --disabled-bg-color: #DDD;\n",
              "  }\n",
              "\n",
              "  [theme=dark] .colab-df-quickchart {\n",
              "      --bg-color: #3B4455;\n",
              "      --fill-color: #D2E3FC;\n",
              "      --hover-bg-color: #434B5C;\n",
              "      --hover-fill-color: #FFFFFF;\n",
              "      --disabled-bg-color: #3B4455;\n",
              "      --disabled-fill-color: #666;\n",
              "  }\n",
              "\n",
              "  .colab-df-quickchart {\n",
              "    background-color: var(--bg-color);\n",
              "    border: none;\n",
              "    border-radius: 50%;\n",
              "    cursor: pointer;\n",
              "    display: none;\n",
              "    fill: var(--fill-color);\n",
              "    height: 32px;\n",
              "    padding: 0;\n",
              "    width: 32px;\n",
              "  }\n",
              "\n",
              "  .colab-df-quickchart:hover {\n",
              "    background-color: var(--hover-bg-color);\n",
              "    box-shadow: 0 1px 2px rgba(60, 64, 67, 0.3), 0 1px 3px 1px rgba(60, 64, 67, 0.15);\n",
              "    fill: var(--button-hover-fill-color);\n",
              "  }\n",
              "\n",
              "  .colab-df-quickchart-complete:disabled,\n",
              "  .colab-df-quickchart-complete:disabled:hover {\n",
              "    background-color: var(--disabled-bg-color);\n",
              "    fill: var(--disabled-fill-color);\n",
              "    box-shadow: none;\n",
              "  }\n",
              "\n",
              "  .colab-df-spinner {\n",
              "    border: 2px solid var(--fill-color);\n",
              "    border-color: transparent;\n",
              "    border-bottom-color: var(--fill-color);\n",
              "    animation:\n",
              "      spin 1s steps(1) infinite;\n",
              "  }\n",
              "\n",
              "  @keyframes spin {\n",
              "    0% {\n",
              "      border-color: transparent;\n",
              "      border-bottom-color: var(--fill-color);\n",
              "      border-left-color: var(--fill-color);\n",
              "    }\n",
              "    20% {\n",
              "      border-color: transparent;\n",
              "      border-left-color: var(--fill-color);\n",
              "      border-top-color: var(--fill-color);\n",
              "    }\n",
              "    30% {\n",
              "      border-color: transparent;\n",
              "      border-left-color: var(--fill-color);\n",
              "      border-top-color: var(--fill-color);\n",
              "      border-right-color: var(--fill-color);\n",
              "    }\n",
              "    40% {\n",
              "      border-color: transparent;\n",
              "      border-right-color: var(--fill-color);\n",
              "      border-top-color: var(--fill-color);\n",
              "    }\n",
              "    60% {\n",
              "      border-color: transparent;\n",
              "      border-right-color: var(--fill-color);\n",
              "    }\n",
              "    80% {\n",
              "      border-color: transparent;\n",
              "      border-right-color: var(--fill-color);\n",
              "      border-bottom-color: var(--fill-color);\n",
              "    }\n",
              "    90% {\n",
              "      border-color: transparent;\n",
              "      border-bottom-color: var(--fill-color);\n",
              "    }\n",
              "  }\n",
              "</style>\n",
              "\n",
              "      <script>\n",
              "        async function quickchart(key) {\n",
              "          const quickchartButtonEl =\n",
              "            document.querySelector('#' + key + ' button');\n",
              "          quickchartButtonEl.disabled = true;  // To prevent multiple clicks.\n",
              "          quickchartButtonEl.classList.add('colab-df-spinner');\n",
              "          try {\n",
              "            const charts = await google.colab.kernel.invokeFunction(\n",
              "                'suggestCharts', [key], {});\n",
              "          } catch (error) {\n",
              "            console.error('Error during call to suggestCharts:', error);\n",
              "          }\n",
              "          quickchartButtonEl.classList.remove('colab-df-spinner');\n",
              "          quickchartButtonEl.classList.add('colab-df-quickchart-complete');\n",
              "        }\n",
              "        (() => {\n",
              "          let quickchartButtonEl =\n",
              "            document.querySelector('#df-ca8480e0-8de8-45e8-a367-f2c856339047 button');\n",
              "          quickchartButtonEl.style.display =\n",
              "            google.colab.kernel.accessAllowed ? 'block' : 'none';\n",
              "        })();\n",
              "      </script>\n",
              "    </div>\n",
              "\n",
              "    </div>\n",
              "  </div>\n"
            ],
            "application/vnd.google.colaboratory.intrinsic+json": {
              "type": "dataframe",
              "variable_name": "leads_por_canal_mes",
              "summary": "{\n  \"name\": \"leads_por_canal_mes\",\n  \"rows\": 2405,\n  \"fields\": [\n    {\n      \"column\": \"Data\",\n      \"properties\": {\n        \"dtype\": \"period[D]\",\n        \"num_unique_values\": 115,\n        \"samples\": [\n          \"2025-08-21\",\n          \"2025-06-05\",\n          \"2025-07-11\"\n        ],\n        \"semantic_type\": \"\",\n        \"description\": \"\"\n      }\n    },\n    {\n      \"column\": \"Canal\",\n      \"properties\": {\n        \"dtype\": \"category\",\n        \"num_unique_values\": 21,\n        \"samples\": [\n          \"FACEBOOK\",\n          \"NA PISTA V2\",\n          \"CHAVES NA M\\u00c3O\"\n        ],\n        \"semantic_type\": \"\",\n        \"description\": \"\"\n      }\n    },\n    {\n      \"column\": \"Qualificado\",\n      \"properties\": {\n        \"dtype\": \"boolean\",\n        \"num_unique_values\": 2,\n        \"samples\": [\n          true,\n          false\n        ],\n        \"semantic_type\": \"\",\n        \"description\": \"\"\n      }\n    },\n    {\n      \"column\": \"Quantidade de Leads\",\n      \"properties\": {\n        \"dtype\": \"number\",\n        \"std\": 270,\n        \"min\": 1,\n        \"max\": 2135,\n        \"num_unique_values\": 570,\n        \"samples\": [\n          164,\n          63\n        ],\n        \"semantic_type\": \"\",\n        \"description\": \"\"\n      }\n    }\n  ]\n}"
            }
          },
          "metadata": {},
          "execution_count": 90
        }
      ]
    },
    {
      "cell_type": "code",
      "source": [
        "leads_por_canal_mes.tail()"
      ],
      "metadata": {
        "id": "eFa16U56O7Wo",
        "outputId": "dbfccc94-430b-486b-99bd-e7436c8ee8bf",
        "colab": {
          "base_uri": "https://localhost:8080/",
          "height": 206
        }
      },
      "execution_count": 89,
      "outputs": [
        {
          "output_type": "execute_result",
          "data": {
            "text/plain": [
              "            Data      Canal  Qualificado  Quantidade de Leads\n",
              "2400  2025-09-23       SITE        False                    4\n",
              "2401  2025-09-23       SITE         True                  176\n",
              "2402  2025-09-23  WEBMOTORS         True                  138\n",
              "2403  2025-09-23   WHATSAPP        False                   86\n",
              "2404  2025-09-23   WHATSAPP         True                  683"
            ],
            "text/html": [
              "\n",
              "  <div id=\"df-cf8c441a-8761-490b-90fd-2a6bcd4af249\" class=\"colab-df-container\">\n",
              "    <div>\n",
              "<style scoped>\n",
              "    .dataframe tbody tr th:only-of-type {\n",
              "        vertical-align: middle;\n",
              "    }\n",
              "\n",
              "    .dataframe tbody tr th {\n",
              "        vertical-align: top;\n",
              "    }\n",
              "\n",
              "    .dataframe thead th {\n",
              "        text-align: right;\n",
              "    }\n",
              "</style>\n",
              "<table border=\"1\" class=\"dataframe\">\n",
              "  <thead>\n",
              "    <tr style=\"text-align: right;\">\n",
              "      <th></th>\n",
              "      <th>Data</th>\n",
              "      <th>Canal</th>\n",
              "      <th>Qualificado</th>\n",
              "      <th>Quantidade de Leads</th>\n",
              "    </tr>\n",
              "  </thead>\n",
              "  <tbody>\n",
              "    <tr>\n",
              "      <th>2400</th>\n",
              "      <td>2025-09-23</td>\n",
              "      <td>SITE</td>\n",
              "      <td>False</td>\n",
              "      <td>4</td>\n",
              "    </tr>\n",
              "    <tr>\n",
              "      <th>2401</th>\n",
              "      <td>2025-09-23</td>\n",
              "      <td>SITE</td>\n",
              "      <td>True</td>\n",
              "      <td>176</td>\n",
              "    </tr>\n",
              "    <tr>\n",
              "      <th>2402</th>\n",
              "      <td>2025-09-23</td>\n",
              "      <td>WEBMOTORS</td>\n",
              "      <td>True</td>\n",
              "      <td>138</td>\n",
              "    </tr>\n",
              "    <tr>\n",
              "      <th>2403</th>\n",
              "      <td>2025-09-23</td>\n",
              "      <td>WHATSAPP</td>\n",
              "      <td>False</td>\n",
              "      <td>86</td>\n",
              "    </tr>\n",
              "    <tr>\n",
              "      <th>2404</th>\n",
              "      <td>2025-09-23</td>\n",
              "      <td>WHATSAPP</td>\n",
              "      <td>True</td>\n",
              "      <td>683</td>\n",
              "    </tr>\n",
              "  </tbody>\n",
              "</table>\n",
              "</div>\n",
              "    <div class=\"colab-df-buttons\">\n",
              "\n",
              "  <div class=\"colab-df-container\">\n",
              "    <button class=\"colab-df-convert\" onclick=\"convertToInteractive('df-cf8c441a-8761-490b-90fd-2a6bcd4af249')\"\n",
              "            title=\"Convert this dataframe to an interactive table.\"\n",
              "            style=\"display:none;\">\n",
              "\n",
              "  <svg xmlns=\"http://www.w3.org/2000/svg\" height=\"24px\" viewBox=\"0 -960 960 960\">\n",
              "    <path d=\"M120-120v-720h720v720H120Zm60-500h600v-160H180v160Zm220 220h160v-160H400v160Zm0 220h160v-160H400v160ZM180-400h160v-160H180v160Zm440 0h160v-160H620v160ZM180-180h160v-160H180v160Zm440 0h160v-160H620v160Z\"/>\n",
              "  </svg>\n",
              "    </button>\n",
              "\n",
              "  <style>\n",
              "    .colab-df-container {\n",
              "      display:flex;\n",
              "      gap: 12px;\n",
              "    }\n",
              "\n",
              "    .colab-df-convert {\n",
              "      background-color: #E8F0FE;\n",
              "      border: none;\n",
              "      border-radius: 50%;\n",
              "      cursor: pointer;\n",
              "      display: none;\n",
              "      fill: #1967D2;\n",
              "      height: 32px;\n",
              "      padding: 0 0 0 0;\n",
              "      width: 32px;\n",
              "    }\n",
              "\n",
              "    .colab-df-convert:hover {\n",
              "      background-color: #E2EBFA;\n",
              "      box-shadow: 0px 1px 2px rgba(60, 64, 67, 0.3), 0px 1px 3px 1px rgba(60, 64, 67, 0.15);\n",
              "      fill: #174EA6;\n",
              "    }\n",
              "\n",
              "    .colab-df-buttons div {\n",
              "      margin-bottom: 4px;\n",
              "    }\n",
              "\n",
              "    [theme=dark] .colab-df-convert {\n",
              "      background-color: #3B4455;\n",
              "      fill: #D2E3FC;\n",
              "    }\n",
              "\n",
              "    [theme=dark] .colab-df-convert:hover {\n",
              "      background-color: #434B5C;\n",
              "      box-shadow: 0px 1px 3px 1px rgba(0, 0, 0, 0.15);\n",
              "      filter: drop-shadow(0px 1px 2px rgba(0, 0, 0, 0.3));\n",
              "      fill: #FFFFFF;\n",
              "    }\n",
              "  </style>\n",
              "\n",
              "    <script>\n",
              "      const buttonEl =\n",
              "        document.querySelector('#df-cf8c441a-8761-490b-90fd-2a6bcd4af249 button.colab-df-convert');\n",
              "      buttonEl.style.display =\n",
              "        google.colab.kernel.accessAllowed ? 'block' : 'none';\n",
              "\n",
              "      async function convertToInteractive(key) {\n",
              "        const element = document.querySelector('#df-cf8c441a-8761-490b-90fd-2a6bcd4af249');\n",
              "        const dataTable =\n",
              "          await google.colab.kernel.invokeFunction('convertToInteractive',\n",
              "                                                    [key], {});\n",
              "        if (!dataTable) return;\n",
              "\n",
              "        const docLinkHtml = 'Like what you see? Visit the ' +\n",
              "          '<a target=\"_blank\" href=https://colab.research.google.com/notebooks/data_table.ipynb>data table notebook</a>'\n",
              "          + ' to learn more about interactive tables.';\n",
              "        element.innerHTML = '';\n",
              "        dataTable['output_type'] = 'display_data';\n",
              "        await google.colab.output.renderOutput(dataTable, element);\n",
              "        const docLink = document.createElement('div');\n",
              "        docLink.innerHTML = docLinkHtml;\n",
              "        element.appendChild(docLink);\n",
              "      }\n",
              "    </script>\n",
              "  </div>\n",
              "\n",
              "\n",
              "    <div id=\"df-7a6c6b41-ac2a-4641-ae0d-720e817596c8\">\n",
              "      <button class=\"colab-df-quickchart\" onclick=\"quickchart('df-7a6c6b41-ac2a-4641-ae0d-720e817596c8')\"\n",
              "                title=\"Suggest charts\"\n",
              "                style=\"display:none;\">\n",
              "\n",
              "<svg xmlns=\"http://www.w3.org/2000/svg\" height=\"24px\"viewBox=\"0 0 24 24\"\n",
              "     width=\"24px\">\n",
              "    <g>\n",
              "        <path d=\"M19 3H5c-1.1 0-2 .9-2 2v14c0 1.1.9 2 2 2h14c1.1 0 2-.9 2-2V5c0-1.1-.9-2-2-2zM9 17H7v-7h2v7zm4 0h-2V7h2v10zm4 0h-2v-4h2v4z\"/>\n",
              "    </g>\n",
              "</svg>\n",
              "      </button>\n",
              "\n",
              "<style>\n",
              "  .colab-df-quickchart {\n",
              "      --bg-color: #E8F0FE;\n",
              "      --fill-color: #1967D2;\n",
              "      --hover-bg-color: #E2EBFA;\n",
              "      --hover-fill-color: #174EA6;\n",
              "      --disabled-fill-color: #AAA;\n",
              "      --disabled-bg-color: #DDD;\n",
              "  }\n",
              "\n",
              "  [theme=dark] .colab-df-quickchart {\n",
              "      --bg-color: #3B4455;\n",
              "      --fill-color: #D2E3FC;\n",
              "      --hover-bg-color: #434B5C;\n",
              "      --hover-fill-color: #FFFFFF;\n",
              "      --disabled-bg-color: #3B4455;\n",
              "      --disabled-fill-color: #666;\n",
              "  }\n",
              "\n",
              "  .colab-df-quickchart {\n",
              "    background-color: var(--bg-color);\n",
              "    border: none;\n",
              "    border-radius: 50%;\n",
              "    cursor: pointer;\n",
              "    display: none;\n",
              "    fill: var(--fill-color);\n",
              "    height: 32px;\n",
              "    padding: 0;\n",
              "    width: 32px;\n",
              "  }\n",
              "\n",
              "  .colab-df-quickchart:hover {\n",
              "    background-color: var(--hover-bg-color);\n",
              "    box-shadow: 0 1px 2px rgba(60, 64, 67, 0.3), 0 1px 3px 1px rgba(60, 64, 67, 0.15);\n",
              "    fill: var(--button-hover-fill-color);\n",
              "  }\n",
              "\n",
              "  .colab-df-quickchart-complete:disabled,\n",
              "  .colab-df-quickchart-complete:disabled:hover {\n",
              "    background-color: var(--disabled-bg-color);\n",
              "    fill: var(--disabled-fill-color);\n",
              "    box-shadow: none;\n",
              "  }\n",
              "\n",
              "  .colab-df-spinner {\n",
              "    border: 2px solid var(--fill-color);\n",
              "    border-color: transparent;\n",
              "    border-bottom-color: var(--fill-color);\n",
              "    animation:\n",
              "      spin 1s steps(1) infinite;\n",
              "  }\n",
              "\n",
              "  @keyframes spin {\n",
              "    0% {\n",
              "      border-color: transparent;\n",
              "      border-bottom-color: var(--fill-color);\n",
              "      border-left-color: var(--fill-color);\n",
              "    }\n",
              "    20% {\n",
              "      border-color: transparent;\n",
              "      border-left-color: var(--fill-color);\n",
              "      border-top-color: var(--fill-color);\n",
              "    }\n",
              "    30% {\n",
              "      border-color: transparent;\n",
              "      border-left-color: var(--fill-color);\n",
              "      border-top-color: var(--fill-color);\n",
              "      border-right-color: var(--fill-color);\n",
              "    }\n",
              "    40% {\n",
              "      border-color: transparent;\n",
              "      border-right-color: var(--fill-color);\n",
              "      border-top-color: var(--fill-color);\n",
              "    }\n",
              "    60% {\n",
              "      border-color: transparent;\n",
              "      border-right-color: var(--fill-color);\n",
              "    }\n",
              "    80% {\n",
              "      border-color: transparent;\n",
              "      border-right-color: var(--fill-color);\n",
              "      border-bottom-color: var(--fill-color);\n",
              "    }\n",
              "    90% {\n",
              "      border-color: transparent;\n",
              "      border-bottom-color: var(--fill-color);\n",
              "    }\n",
              "  }\n",
              "</style>\n",
              "\n",
              "      <script>\n",
              "        async function quickchart(key) {\n",
              "          const quickchartButtonEl =\n",
              "            document.querySelector('#' + key + ' button');\n",
              "          quickchartButtonEl.disabled = true;  // To prevent multiple clicks.\n",
              "          quickchartButtonEl.classList.add('colab-df-spinner');\n",
              "          try {\n",
              "            const charts = await google.colab.kernel.invokeFunction(\n",
              "                'suggestCharts', [key], {});\n",
              "          } catch (error) {\n",
              "            console.error('Error during call to suggestCharts:', error);\n",
              "          }\n",
              "          quickchartButtonEl.classList.remove('colab-df-spinner');\n",
              "          quickchartButtonEl.classList.add('colab-df-quickchart-complete');\n",
              "        }\n",
              "        (() => {\n",
              "          let quickchartButtonEl =\n",
              "            document.querySelector('#df-7a6c6b41-ac2a-4641-ae0d-720e817596c8 button');\n",
              "          quickchartButtonEl.style.display =\n",
              "            google.colab.kernel.accessAllowed ? 'block' : 'none';\n",
              "        })();\n",
              "      </script>\n",
              "    </div>\n",
              "\n",
              "    </div>\n",
              "  </div>\n"
            ],
            "application/vnd.google.colaboratory.intrinsic+json": {
              "type": "dataframe",
              "summary": "{\n  \"name\": \"leads_por_canal_mes\",\n  \"rows\": 5,\n  \"fields\": [\n    {\n      \"column\": \"Data\",\n      \"properties\": {\n        \"dtype\": \"period[D]\",\n        \"num_unique_values\": 1,\n        \"samples\": [\n          \"2025-09-23\"\n        ],\n        \"semantic_type\": \"\",\n        \"description\": \"\"\n      }\n    },\n    {\n      \"column\": \"Canal\",\n      \"properties\": {\n        \"dtype\": \"string\",\n        \"num_unique_values\": 3,\n        \"samples\": [\n          \"SITE\"\n        ],\n        \"semantic_type\": \"\",\n        \"description\": \"\"\n      }\n    },\n    {\n      \"column\": \"Qualificado\",\n      \"properties\": {\n        \"dtype\": \"boolean\",\n        \"num_unique_values\": 2,\n        \"samples\": [\n          true\n        ],\n        \"semantic_type\": \"\",\n        \"description\": \"\"\n      }\n    },\n    {\n      \"column\": \"Quantidade de Leads\",\n      \"properties\": {\n        \"dtype\": \"number\",\n        \"std\": 268,\n        \"min\": 4,\n        \"max\": 683,\n        \"num_unique_values\": 5,\n        \"samples\": [\n          176\n        ],\n        \"semantic_type\": \"\",\n        \"description\": \"\"\n      }\n    }\n  ]\n}"
            }
          },
          "metadata": {},
          "execution_count": 89
        }
      ]
    },
    {
      "cell_type": "code",
      "source": [
        "\n",
        "# Nova coluna calculando a diferença em porcetage em relação ao dia anterior para o mesmo canal\n",
        "leads_por_canal_mes['Diferença %'] = leads_por_canal_mes.groupby('Canal')['Quantidade de Leads'].pct_change() * 100"
      ],
      "metadata": {
        "id": "W8lyqVtzPJQM"
      },
      "execution_count": null,
      "outputs": []
    },
    {
      "cell_type": "code",
      "source": [
        "import pandas as pd\n",
        "\n",
        "\n",
        "# --- ETAPA 1: Carregar o arquivo ---\n",
        "df_propostas = pd.read_csv(\"propostas.csv\", sep=\";\", encoding=\"utf-8\", low_memory=False)\n",
        "df_lojas = pd.read_excel(\"de_para_loja.xlsx\")\n",
        "\n",
        "# renomenado coluna 'Status' de df_lojas\n",
        "df_lojas.rename(columns={'Status': 'Status_loja'}, inplace=True)\n",
        "\n",
        "df_regional = df_propostas.copy()"
      ],
      "metadata": {
        "id": "2SIQ1aAq6tVv"
      },
      "execution_count": null,
      "outputs": []
    },
    {
      "cell_type": "code",
      "source": [
        "#valores unicos na colune 'Nome PDV'\n",
        "print(len(df_regional['Nome PDV'].unique()))"
      ],
      "metadata": {
        "id": "aMBROYHw9DAE",
        "outputId": "3efcfc9b-3e1a-406f-8499-6defae749791",
        "colab": {
          "base_uri": "https://localhost:8080/"
        }
      },
      "execution_count": null,
      "outputs": [
        {
          "output_type": "stream",
          "name": "stdout",
          "text": [
            "104\n"
          ]
        }
      ]
    },
    {
      "cell_type": "code",
      "source": [
        "# Junção de df_regional com df_lojas\n",
        "df_regional = pd.merge(df_regional, df_lojas, on='Nome PDV', how='left')"
      ],
      "metadata": {
        "id": "oAQAIvDa_q_0"
      },
      "execution_count": null,
      "outputs": []
    },
    {
      "cell_type": "code",
      "source": [
        "print(len(df_regional['Nome PDV'].unique()))"
      ],
      "metadata": {
        "id": "yAeEuASI_6E0",
        "outputId": "9b8c7bc6-7c9b-4e77-fe60-56fbbbc13e0d",
        "colab": {
          "base_uri": "https://localhost:8080/"
        }
      },
      "execution_count": null,
      "outputs": [
        {
          "output_type": "stream",
          "name": "stdout",
          "text": [
            "104\n"
          ]
        }
      ]
    },
    {
      "cell_type": "code",
      "source": [
        "df_regional.columns"
      ],
      "metadata": {
        "id": "haVHlMxqAazh",
        "outputId": "f751ca2e-46e0-49fe-81f3-cb04280428e1",
        "colab": {
          "base_uri": "https://localhost:8080/"
        }
      },
      "execution_count": null,
      "outputs": [
        {
          "output_type": "execute_result",
          "data": {
            "text/plain": [
              "Index(['ID Lead', 'Data', 'Data ultima interação', 'Nome PDV', 'CNPJ PDV',\n",
              "       'Nome Cliente', 'Email Cliente', 'Telefone Cliente', 'CPF', 'Lead',\n",
              "       'Origem', 'Canal', 'Status', 'CallCenter status', 'Data Status Loja',\n",
              "       'Nome Vendedor', 'ID do Vendedor', 'Callcenter detalhe',\n",
              "       'callcenter status detalhe', 'assistente vendas',\n",
              "       'ID do Assistente de Vendas', 'tipo', 'qualificado', 'documentos',\n",
              "       'tags', 'vetor_id', 'data_ult_solicitacao_agendamento',\n",
              "       'data_ult_agendamento', 'agendamento_visita', 'atraso_ult_agendamento',\n",
              "       'qtd_agendamentos_90d', 'qtd_nao_foi_90d', 'regiao', 'Cidade_x', 'UF_x',\n",
              "       'CEP_x', 'campanha', 'CNPJ', 'Campanhas Facebook', 'Nome ajustado',\n",
              "       'Região', 'Varejo', 'UF_y', 'Cidade_y', 'DDD', 'Geolocalização',\n",
              "       'Feirão 1 (Junho)', 'Feirão 2 (Julho)', 'Feirão 3 (Agosto)',\n",
              "       'Feirão 4 (Fev 2025)', 'Status_loja', 'CEP_y', 'Telefone', 'Endereço ',\n",
              "       'Bairro', 'Mobi ID', 'CNPJ DE', 'CNPJ PARA', 'Regional'],\n",
              "      dtype='object')"
            ]
          },
          "metadata": {},
          "execution_count": 49
        }
      ]
    },
    {
      "cell_type": "code",
      "source": [
        "print(df_regional['Status_loja'].unique())\n"
      ],
      "metadata": {
        "id": "DkijCoI67Amu",
        "outputId": "9699c7b4-92f2-46ba-f2f6-a2d580678140",
        "colab": {
          "base_uri": "https://localhost:8080/"
        }
      },
      "execution_count": null,
      "outputs": [
        {
          "output_type": "stream",
          "name": "stdout",
          "text": [
            "['Ativa' 'Desabilitada' nan 'Inativa']\n"
          ]
        }
      ]
    },
    {
      "cell_type": "markdown",
      "source": [
        "#Lojas Não Ativas"
      ],
      "metadata": {
        "id": "u5EUTargFi-c"
      }
    },
    {
      "cell_type": "code",
      "source": [
        "# Filtrar apenas 'Nome PDV' com NÃO 'Ativa' na coluna 'Status'\n",
        "df_regional_desativa = df_regional[df_regional['Status_loja'] != 'Ativa']\n",
        "\n",
        "print(len(df_regional_desativa['Nome PDV'].unique()))"
      ],
      "metadata": {
        "id": "jRrW0rzfBhgl",
        "outputId": "a365072f-facd-4387-b1c6-4794577daba3",
        "colab": {
          "base_uri": "https://localhost:8080/"
        }
      },
      "execution_count": null,
      "outputs": [
        {
          "output_type": "stream",
          "name": "stdout",
          "text": [
            "8\n"
          ]
        }
      ]
    },
    {
      "cell_type": "code",
      "source": [
        "print(df_regional_desativa['Nome PDV'].unique())"
      ],
      "metadata": {
        "id": "B5IE6WgTB-JE",
        "outputId": "7cab509a-9eda-4e5f-db55-1fa0ee1ed01b",
        "colab": {
          "base_uri": "https://localhost:8080/"
        }
      },
      "execution_count": null,
      "outputs": [
        {
          "output_type": "stream",
          "name": "stdout",
          "text": [
            "['Seminovos Movida - Central de Relacionamento' 'Movida Atacado'\n",
            " 'Ação Seminovos Movida' 'Seminovos Movida Facebook/Instagram'\n",
            " 'Seminovos Movida São Paulo Alphaville'\n",
            " 'Seminovos Movida São Paulo Butantã' 'Seminovos Movida Florianópolis'\n",
            " 'Seminovos Movida Contagem - MG']\n"
          ]
        }
      ]
    },
    {
      "cell_type": "markdown",
      "source": [
        "# Lojas Ativas"
      ],
      "metadata": {
        "id": "hBQ6T0cJFgpt"
      }
    },
    {
      "cell_type": "code",
      "source": [
        "# Filtrar apenas 'Nome ajustado' com 'Ativa' na coluna 'Status'\n",
        "df_regional_ativa = df_regional[df_regional['Status_loja'] == 'Ativa']\n",
        "\n",
        "print(len(df_regional_ativa['Nome ajustado'].unique()))"
      ],
      "metadata": {
        "id": "JIqoU7eDAshU",
        "outputId": "364923d2-a827-4532-daf2-1f1ca7715ff6",
        "colab": {
          "base_uri": "https://localhost:8080/"
        }
      },
      "execution_count": null,
      "outputs": [
        {
          "output_type": "stream",
          "name": "stdout",
          "text": [
            "94\n"
          ]
        }
      ]
    },
    {
      "cell_type": "code",
      "source": [
        "print(df_regional_ativa['Nome ajustado'].unique())"
      ],
      "metadata": {
        "id": "0nIZPgSvCsf8",
        "outputId": "4be844d2-f4f0-4ec4-adbb-2466b28436d6",
        "colab": {
          "base_uri": "https://localhost:8080/"
        }
      },
      "execution_count": null,
      "outputs": [
        {
          "output_type": "stream",
          "name": "stdout",
          "text": [
            "['Seminovos Movida Indaiatuba' 'Seminovos Movida Belo Horizonte Raja'\n",
            " 'Seminovos Movida Várzea Grande' 'Seminovos Movida Recife Espinheiro'\n",
            " 'Seminovos Movida João Pessoa Brisamar' 'Seminovos Movida Osasco'\n",
            " 'Seminovos Movida Mogi das Cruzes' 'Seminovos Movida Maringá'\n",
            " 'Seminovos Movida Guarulhos Timoteo Penteado'\n",
            " 'Seminovos Movida Curitiba Floriano' 'Seminovos Movida Lauro de Freitas'\n",
            " 'Seminovos Movida Contagem Babita Camargo' 'Seminovos Movida Nova Iguaçu'\n",
            " 'Seminovos Movida São Paulo Ermano Marchetti'\n",
            " 'Seminovos Movida São Paulo Aricanduva' 'Seminovos Movida Taguatinga'\n",
            " 'Seminovos Movida Belém Marco' 'Seminovos Movida Salvador Paralela'\n",
            " 'Seminovos Movida Campinas Orosimbo'\n",
            " 'Seminovos Movida São Bernardo Pereira Barreto'\n",
            " 'Seminovos Movida Feira de Santana' 'Seminovos Movida Londrina'\n",
            " 'Seminovos Movida São Paulo Eliseu de Almeida'\n",
            " 'Seminovos Movida Piracicaba' 'Seminovos Movida Ribeirão Preto'\n",
            " 'Seminovos Movida Belo Horizonte Cristiano Machado'\n",
            " 'Seminovos Movida Sorocaba' 'Seminovos Movida Rio de Janeiro Tijuca'\n",
            " 'Seminovos Movida Recife Caxangá' 'Seminovos Movida Campinas Itapura'\n",
            " 'Seminovos Movida Sorocaba Dom Aguirre'\n",
            " 'Seminovos Movida Rio de Janeiro Campo Grande'\n",
            " 'Seminovos Movida Vila Velha' 'Seminovos Movida Teresina'\n",
            " 'Seminovos Movida São Paulo Radial Leste' 'Seminovos Movida Jundiaí'\n",
            " 'Seminovos Movida Brasília SIA'\n",
            " 'Seminovos Movida Rio de Janeiro Av. das Américas'\n",
            " 'Seminovos Movida Santos' 'Seminovos Movida São Paulo Vila Carrão'\n",
            " 'Seminovos Movida Betim' 'Seminovos Movida Taubaté'\n",
            " 'Seminovos Movida São José dos Campos' 'Seminovos Movida Serra'\n",
            " 'Seminovos Movida São Paulo Itaim Paulista' 'Seminovos Movida Fortaleza'\n",
            " 'Seminovos Movida Cuiabá' 'Seminovos Movida São Carlos'\n",
            " 'Seminovos Movida Belém Senador' 'Seminovos Movida Natal'\n",
            " 'Seminovos Movida Juiz de Fora' 'Seminovos Movida Caxias do Sul'\n",
            " 'Seminovos Movida São Luís' 'Seminovos Movida São Paulo Vila Ema'\n",
            " 'Seminovos Movida São Bernardo do Campo' 'Seminovos Movida Canoas'\n",
            " 'Seminovos Movida Aparecida de Goiânia' 'Seminovos Movida Joinville'\n",
            " 'Seminovos Movida Uberlândia'\n",
            " 'Seminovos Movida Fortaleza Av. Santos Dumont'\n",
            " 'Seminovos Movida São Paulo São Miguel' 'Seminovos Movida Manaus'\n",
            " 'Seminovos Movida São Paulo Gastão Vidigal'\n",
            " 'Seminovos Movida São Paulo Vila Guilherme'\n",
            " 'Seminovos Movida São José do Rio Preto' 'Seminovos Movida Blumenau'\n",
            " 'Seminovos Movida Campo Grande' 'Seminovos Movida Goiânia Mutirão'\n",
            " 'Seminovos Movida Vitória' 'Seminovos Movida Niterói'\n",
            " 'Seminovos Movida São Paulo Nações Unidas'\n",
            " 'Seminovos Movida Recife Imbiribeira'\n",
            " 'Seminovos Movida Porto Alegre Sarandi'\n",
            " 'Seminovos Movida São José dos Pinhais'\n",
            " 'Seminovos Movida Rio de Janeiro Vila Valqueire'\n",
            " 'Seminovos Movida Itajaí' 'Seminovos Movida Limeira'\n",
            " 'Seminovos Movida Curitiba Mario Tourinho' 'Seminovos Movida Maceió'\n",
            " 'Seminovos Movida Belo Horizonte Antonio Carlos'\n",
            " 'Seminovos Movida Belo Horizonte Carlos Luz'\n",
            " 'Seminovos Movida São Paulo Santana' 'Seminovos Movida Americana'\n",
            " 'Seminovos Movida Santo André'\n",
            " 'Seminovos Movida Rio de Janeiro Barra da Tijuca'\n",
            " 'Seminovos Movida Porto Alegre Ipiranga' 'Seminovos Movida São José'\n",
            " 'Seminovos Movida Campinas Shopping Dom Pedro'\n",
            " 'Seminovos Movida Rio de Janeiro Duque de Caxias'\n",
            " 'Seminovos Movida São Paulo Penha' 'Seminovos Movida Bauru'\n",
            " 'Seminovos Movida Suzano'\n",
            " 'Seminovos Movida Rio de Janeiro Intendente Magalhães'\n",
            " 'Seminovos Movida Fortaleza Auto Shopping']\n"
          ]
        }
      ]
    },
    {
      "cell_type": "code",
      "source": [
        "# criar lista somente com lojas 'Nome ajustado'\n",
        "df_ativas = df_regional_ativa['Nome ajustado'].unique()\n",
        "\n",
        "# criar arquivo .csv\n",
        "df_ativas = pd.DataFrame(df_ativas)\n",
        "df_ativas.to_csv('lojas_ativas.csv', index=False)"
      ],
      "metadata": {
        "id": "Kz_LJadCF4Hs"
      },
      "execution_count": null,
      "outputs": []
    }
  ]
}